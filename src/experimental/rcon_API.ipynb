{
 "cells": [
  {
   "cell_type": "code",
   "execution_count": 1,
   "id": "56dab972-3bfd-4648-b6e6-0405f80bc500",
   "metadata": {},
   "outputs": [],
   "source": [
    "import re\n",
    "import os\n",
    "import json\n",
    "\n",
    "from easydict import EasyDict as edict\n",
    "from mcrcon import MCRcon as r\n",
    "import pandas as pd"
   ]
  },
  {
   "cell_type": "code",
   "execution_count": 2,
   "id": "facd1597-9628-44b3-89e8-d2c909551581",
   "metadata": {},
   "outputs": [],
   "source": [
    "ROOT_PATH   = '/home/jovyan'\n",
    "CONFIG_PATH = f'{ROOT_PATH}/utils/configs.json'\n",
    "\n",
    "CONFIG      = json.loads(open(CONFIG_PATH, 'r').read())\n",
    "CONFIG      = edict(CONFIG)\n",
    "PASSWD      = CONFIG.passwd\n",
    "HOST        = CONFIG.host\n",
    "PORT        = CONFIG.port"
   ]
  },
  {
   "cell_type": "code",
   "execution_count": 3,
   "id": "20f60141-477a-4af0-8c12-9901b176f473",
   "metadata": {},
   "outputs": [],
   "source": [
    "clear_recv  = lambda x: re.sub('§[a-zA-Z0-9]', '', x).split('\\n')\n",
    "clear_minus = lambda x: [re.sub('[^a-zA-Z0-9]', '', x[0]), x[1].strip()]"
   ]
  },
  {
   "cell_type": "code",
   "execution_count": 4,
   "id": "3abef1f5-09bb-4204-8f35-8a1d94c75413",
   "metadata": {},
   "outputs": [
    {
     "data": {
      "text/plain": [
       "['There are 0 out of maximum 20 players online.', '']"
      ]
     },
     "execution_count": 4,
     "metadata": {},
     "output_type": "execute_result"
    }
   ],
   "source": [
    "con = r(host = HOST, port = PORT, password = PASSWD)\n",
    "con.connect()\n",
    "response = con.command('list')\n",
    "clear_recv(response)"
   ]
  },
  {
   "cell_type": "code",
   "execution_count": 5,
   "id": "b4f1975a-e777-412f-89c8-4661031ceb31",
   "metadata": {},
   "outputs": [
    {
     "data": {
      "text/plain": [
       "{'Nick': 'DoveKim',\n",
       " 'UUID': '0fe8095c-8d09-440e-8c5f-7ec75be107af',\n",
       " 'Health': '20/20',\n",
       " 'Hunger': '20/20 (+5 saturation)',\n",
       " 'Exp': '126 (Level 8)',\n",
       " 'Location': '(world, 1,350, 105, -2,032)',\n",
       " 'Playtime': '3 days 3 hours 55 minutes',\n",
       " 'Money': '$871.17',\n",
       " 'IPAddress': '/172.17.0.1',\n",
       " 'Gamemode': 'creative',\n",
       " 'Godmode': 'false',\n",
       " 'OP': 'true',\n",
       " 'Flymode': 'true (flying)',\n",
       " 'Speed': '0.1',\n",
       " 'AFK': 'false',\n",
       " 'Jail': 'false',\n",
       " 'Muted': 'false'}"
      ]
     },
     "execution_count": 5,
     "metadata": {},
     "output_type": "execute_result"
    }
   ],
   "source": [
    "infos = [' ====== WhoIs: DoveKim ======',\n",
    "         ' - Nick: DoveKim',\n",
    "         ' - UUID: 0fe8095c-8d09-440e-8c5f-7ec75be107af',\n",
    "         ' - Health: 20/20',\n",
    "         ' - Hunger: 20/20 (+5 saturation)',\n",
    "         ' - Exp: 126 (Level 8)',\n",
    "         ' - Location: (world, 1,350, 105, -2,032)',\n",
    "         ' - Playtime: 3 days 3 hours 55 minutes',\n",
    "         ' - Money: $871.17',\n",
    "         ' - IP Address: /172.17.0.1',\n",
    "         ' - Gamemode: creative',\n",
    "         ' - God mode: false',\n",
    "         ' - OP: true',\n",
    "         ' - Fly mode: true (flying)',\n",
    "         ' - Speed: 0.1',\n",
    "         ' - AFK: false',\n",
    "         ' - Jail: false',\n",
    "         ' - Muted: false',\n",
    "         '']\n",
    "infos = [info for info in infos[1:] if info != '']\n",
    "infos = [clear_minus(info.split(':')) for info in infos]\n",
    "infos = {k : v for k, v in infos}\n",
    "infos"
   ]
  },
  {
   "cell_type": "code",
   "execution_count": 6,
   "id": "f3e8e88f-68bc-4088-8f47-ef29949a18d6",
   "metadata": {},
   "outputs": [],
   "source": [
    "os.makedirs('jsons', exist_ok = True)\n",
    "json.dump(infos, open(f'jsons/{infos[\"Nick\"]}.json', 'w'))"
   ]
  },
  {
   "cell_type": "code",
   "execution_count": null,
   "id": "9c7291a6-7994-4fe0-8483-36dfab3d4929",
   "metadata": {},
   "outputs": [],
   "source": []
  },
  {
   "cell_type": "code",
   "execution_count": null,
   "id": "7b435b82-4749-4675-b272-764d59e15d18",
   "metadata": {},
   "outputs": [],
   "source": []
  }
 ],
 "metadata": {
  "kernelspec": {
   "display_name": "mc",
   "language": "python",
   "name": "mc"
  },
  "language_info": {
   "codemirror_mode": {
    "name": "ipython",
    "version": 3
   },
   "file_extension": ".py",
   "mimetype": "text/x-python",
   "name": "python",
   "nbconvert_exporter": "python",
   "pygments_lexer": "ipython3",
   "version": "3.10.10"
  }
 },
 "nbformat": 4,
 "nbformat_minor": 5
}

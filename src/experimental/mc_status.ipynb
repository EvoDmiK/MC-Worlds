{
 "cells": [
  {
   "cell_type": "code",
   "execution_count": 1,
   "id": "1047360e-55a8-4018-b884-eec6c877d8e6",
   "metadata": {},
   "outputs": [],
   "source": [
    "import json\n",
    "import os\n",
    "\n",
    "from easydict import EasyDict as edict\n",
    "from mcstatus import JavaServer"
   ]
  },
  {
   "cell_type": "code",
   "execution_count": 2,
   "id": "f13126f5-3cac-485c-8a31-18508283c550",
   "metadata": {},
   "outputs": [],
   "source": [
    "ROOT_PATH   = '/'.join(os.getcwd().split('/')[:-3])\n",
    "CONFIG_PATH = f'{ROOT_PATH}/utils/configs'\n",
    "\n",
    "load_json   = lambda ftype: edict(json.loads(open(f'{CONFIG_PATH}/{ftype}.json', 'r').read()))\n",
    "CONFIG      = load_json('config')\n",
    "PORTS       = load_json('ports')\n",
    "\n",
    "HOST        = CONFIG.api_host\n",
    "PORT        = PORTS.mc_port\n",
    "URL         = f'{HOST}:{PORT}'"
   ]
  },
  {
   "cell_type": "code",
   "execution_count": 3,
   "id": "da8e8e46-b43e-4628-82d0-c8d04b9ee0d4",
   "metadata": {},
   "outputs": [
    {
     "data": {
      "text/plain": [
       "2.1977219985274132"
      ]
     },
     "execution_count": 3,
     "metadata": {},
     "output_type": "execute_result"
    }
   ],
   "source": [
    "server      = JavaServer.lookup(URL)\n",
    "status      = server.status()\n",
    "server.ping()"
   ]
  },
  {
   "cell_type": "code",
   "execution_count": null,
   "id": "b9559990-7308-4a8c-895b-f3a5cd770c17",
   "metadata": {},
   "outputs": [],
   "source": []
  }
 ],
 "metadata": {
  "kernelspec": {
   "display_name": "dove",
   "language": "python",
   "name": "dove"
  },
  "language_info": {
   "codemirror_mode": {
    "name": "ipython",
    "version": 3
   },
   "file_extension": ".py",
   "mimetype": "text/x-python",
   "name": "python",
   "nbconvert_exporter": "python",
   "pygments_lexer": "ipython3",
   "version": "3.8.13"
  }
 },
 "nbformat": 4,
 "nbformat_minor": 5
}

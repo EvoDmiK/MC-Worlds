{
 "cells": [
  {
   "cell_type": "code",
   "execution_count": 1,
   "id": "96b1aa81-25e2-47bd-ba8a-124c77baaae2",
   "metadata": {},
   "outputs": [],
   "source": [
    "import json\n",
    "import re\n",
    "import os\n",
    "\n",
    "from easydict import EasyDict as edict\n",
    "from mcrcon import MCRcon as mrcon"
   ]
  },
  {
   "cell_type": "code",
   "execution_count": 2,
   "id": "0a3ad629-7f20-4be9-8388-5ff9548dc10f",
   "metadata": {},
   "outputs": [],
   "source": [
    "ROOT_PATH   = '/'.join(os.getcwd().split(os.path.sep)[:-4])\n",
    "CONFIG_PATH = f'{ROOT_PATH}/utils/configs.json'\n",
    "CONFIG      = edict(json.loads(open(CONFIG_PATH, 'r').read()))\n",
    "PASSWD      = CONFIG.passwd\n",
    "HOST        = CONFIG.host\n",
    "PORT        = CONFIG.port"
   ]
  },
  {
   "cell_type": "code",
   "execution_count": 3,
   "id": "5da7c44b-8d45-4247-8375-1aa010a05edb",
   "metadata": {},
   "outputs": [],
   "source": [
    "def command(con, command):\n",
    "    \n",
    "    command = con.command(command)\n",
    "    return re.sub('§[a-zA-Z0-9]', '', command).split('\\n')"
   ]
  },
  {
   "cell_type": "code",
   "execution_count": 4,
   "id": "ff5d4421-4d1b-48d2-9ac7-b67de76b3ee4",
   "metadata": {},
   "outputs": [],
   "source": [
    "con = mrcon(host = HOST, port = PORT, password = PASSWD)\n",
    "con.connect()"
   ]
  },
  {
   "cell_type": "code",
   "execution_count": 5,
   "id": "7d041302-e9c4-47ed-bdf2-baafe9948d03",
   "metadata": {},
   "outputs": [
    {
     "data": {
      "text/plain": [
       "['--------- Help: Minecraft (7/9) -----------------',\n",
       " '/save-all: A Mojang provided command.',\n",
       " '/save-off: A Mojang provided command.',\n",
       " '/save-on: A Mojang provided command.',\n",
       " '/say: A Mojang provided command.',\n",
       " '/schedule: A Mojang provided command.',\n",
       " '/scoreboard: A Mojang provided command.',\n",
       " '/seed: A Mojang provided command.',\n",
       " '/setblock: A Mojang provided command.',\n",
       " '/setidletimeout: A Mojang provided command.',\n",
       " '']"
      ]
     },
     "execution_count": 5,
     "metadata": {},
     "output_type": "execute_result"
    }
   ],
   "source": [
    "recv = command(con, '? Minecraft 7')\n",
    "recv"
   ]
  },
  {
   "cell_type": "code",
   "execution_count": 6,
   "id": "bdb0f467-9d95-45bc-9487-812ed16887a3",
   "metadata": {},
   "outputs": [
    {
     "data": {
      "text/plain": [
       "['There are 0 out of maximum 25 players online.', '']"
      ]
     },
     "execution_count": 6,
     "metadata": {},
     "output_type": "execute_result"
    }
   ],
   "source": [
    "recv = command(con, 'list')\n",
    "recv"
   ]
  },
  {
   "cell_type": "code",
   "execution_count": null,
   "id": "a68ee407-e998-430c-ba10-326d244763c9",
   "metadata": {},
   "outputs": [],
   "source": []
  }
 ],
 "metadata": {
  "kernelspec": {
   "display_name": "mc",
   "language": "python",
   "name": "mc"
  },
  "language_info": {
   "codemirror_mode": {
    "name": "ipython",
    "version": 3
   },
   "file_extension": ".py",
   "mimetype": "text/x-python",
   "name": "python",
   "nbconvert_exporter": "python",
   "pygments_lexer": "ipython3",
   "version": "3.10.10"
  }
 },
 "nbformat": 4,
 "nbformat_minor": 5
}

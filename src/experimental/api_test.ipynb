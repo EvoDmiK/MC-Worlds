{
 "cells": [
  {
   "cell_type": "code",
   "execution_count": 1,
   "id": "4370e74c-9413-45cb-908b-480f2a871692",
   "metadata": {},
   "outputs": [],
   "source": [
    "from time import time\n",
    "import json\n",
    "import os\n",
    "\n",
    "from easydict import EasyDict as edict\n",
    "import requests as req"
   ]
  },
  {
   "cell_type": "code",
   "execution_count": 2,
   "id": "f9d984c6-b853-4f74-97c2-c950b0c96154",
   "metadata": {},
   "outputs": [],
   "source": [
    "ROOT_PATH   = '/'.join(os.getcwd().split(os.path.sep)[:-4])\n",
    "CONFIG_PATH = f'{ROOT_PATH}/utils/configs.json'\n",
    "CONFIG      = edict(json.loads(open(CONFIG_PATH, 'r').read()))\n",
    "API_HOST    = CONFIG.api_host\n",
    "EXT_PORT    = CONFIG.ext_api_port"
   ]
  },
  {
   "cell_type": "code",
   "execution_count": 3,
   "id": "e9b24d38-58f9-4f74-8607-ff992a3d0d0b",
   "metadata": {},
   "outputs": [
    {
     "data": {
      "text/plain": [
       "0.2707180976867676"
      ]
     },
     "execution_count": 3,
     "metadata": {},
     "output_type": "execute_result"
    }
   ],
   "source": [
    "start = time()\n",
    "response = req.post(f'http://{API_HOST}:{EXT_PORT}/who_is',\n",
    "                    params = {'player' : 'CastlePush'})\n",
    "time() - start"
   ]
  },
  {
   "cell_type": "code",
   "execution_count": 4,
   "id": "603f06b0-701d-487c-b8c5-11da37ac28d7",
   "metadata": {},
   "outputs": [
    {
     "data": {
      "text/plain": [
       "{}"
      ]
     },
     "execution_count": 4,
     "metadata": {},
     "output_type": "execute_result"
    }
   ],
   "source": [
    "json.loads(json.loads(response.text))"
   ]
  },
  {
   "cell_type": "code",
   "execution_count": 5,
   "id": "f4861074-b0e2-4a62-9c81-94b937a6d0bd",
   "metadata": {},
   "outputs": [
    {
     "data": {
      "text/plain": [
       "0.23897194862365723"
      ]
     },
     "execution_count": 5,
     "metadata": {},
     "output_type": "execute_result"
    }
   ],
   "source": [
    "start = time()\n",
    "response = req.post(f'http://{API_HOST}:{EXT_PORT}/num_players')\n",
    "time() - start"
   ]
  },
  {
   "cell_type": "code",
   "execution_count": 6,
   "id": "249cf34a-f960-42ca-a423-9f9a39cd1c86",
   "metadata": {},
   "outputs": [
    {
     "data": {
      "text/plain": [
       "{'num_players': 0}"
      ]
     },
     "execution_count": 6,
     "metadata": {},
     "output_type": "execute_result"
    }
   ],
   "source": [
    "json.loads(json.loads(response.text))"
   ]
  },
  {
   "cell_type": "code",
   "execution_count": null,
   "id": "338fbaca-947e-4416-af9a-4d9b3180fffd",
   "metadata": {},
   "outputs": [],
   "source": []
  }
 ],
 "metadata": {
  "kernelspec": {
   "display_name": "mc",
   "language": "python",
   "name": "mc"
  },
  "language_info": {
   "codemirror_mode": {
    "name": "ipython",
    "version": 3
   },
   "file_extension": ".py",
   "mimetype": "text/x-python",
   "name": "python",
   "nbconvert_exporter": "python",
   "pygments_lexer": "ipython3",
   "version": "3.10.10"
  }
 },
 "nbformat": 4,
 "nbformat_minor": 5
}

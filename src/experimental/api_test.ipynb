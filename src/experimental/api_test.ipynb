{
 "cells": [
  {
   "cell_type": "code",
   "execution_count": 1,
   "id": "4370e74c-9413-45cb-908b-480f2a871692",
   "metadata": {},
   "outputs": [],
   "source": [
    "from datetime import datetime\n",
    "from time import time\n",
    "import json\n",
    "import os\n",
    "\n",
    "from easydict import EasyDict as edict\n",
    "import requests as req"
   ]
  },
  {
   "cell_type": "code",
   "execution_count": 2,
   "id": "f9d984c6-b853-4f74-97c2-c950b0c96154",
   "metadata": {},
   "outputs": [],
   "source": [
    "ROOT_PATH   = '/'.join(os.getcwd().split(os.path.sep)[:-3])\n",
    "CONFIG_PATH = f'{ROOT_PATH}/utils/configs/config.json'\n",
    "PORTS_PATH  = f'{ROOT_PATH}/utils/configs/ports.json'\n",
    "\n",
    "CONFIG      = edict(json.loads(open(CONFIG_PATH, 'r').read()))\n",
    "PORTS       = edict(json.loads(open(PORTS_PATH, 'r').read()))\n",
    "\n",
    "API_HOST    = CONFIG.mrcon_host_ip\n",
    "EXT_PORT    = PORTS.mrcon_api_ext_port"
   ]
  },
  {
   "cell_type": "code",
   "execution_count": 3,
   "id": "e9b24d38-58f9-4f74-8607-ff992a3d0d0b",
   "metadata": {},
   "outputs": [
    {
     "data": {
      "text/plain": [
       "0.06359219551086426"
      ]
     },
     "execution_count": 3,
     "metadata": {},
     "output_type": "execute_result"
    }
   ],
   "source": [
    "start    = time()\n",
    "response = req.post(f'http://{API_HOST}:{EXT_PORT}/who_is',\n",
    "                    params = {'player' : 'DoveKim'})\n",
    "time() - start"
   ]
  },
  {
   "cell_type": "code",
   "execution_count": 4,
   "id": "603f06b0-701d-487c-b8c5-11da37ac28d7",
   "metadata": {},
   "outputs": [
    {
     "data": {
      "text/plain": [
       "{'Nick': 'DoveKim',\n",
       " 'UUID': '0fe8095c-8d09-440e-8c5f-7ec75be107af',\n",
       " 'Health': '0/20',\n",
       " 'Hunger': '17/20 (+0 saturation)',\n",
       " 'Exp': '57 (Level 5)',\n",
       " 'Location': '(world, 1,090, 71, -1,828)',\n",
       " 'Playtime': '1 day 8 hours 52 minutes',\n",
       " 'Money': '$112.06',\n",
       " 'IPAddress': '/172.17.0.1',\n",
       " 'Gamemode': 'survival',\n",
       " 'Godmode': 'false',\n",
       " 'OP': 'true',\n",
       " 'Flymode': 'false (not flying)',\n",
       " 'Speed': '0.2',\n",
       " 'AFK': 'true (Since 30 minutes 50 seconds)',\n",
       " 'Jail': 'false',\n",
       " 'Muted': 'false',\n",
       " 'latest_online': 1683809152.5658615}"
      ]
     },
     "execution_count": 4,
     "metadata": {},
     "output_type": "execute_result"
    }
   ],
   "source": [
    "info = json.loads(json.loads(response.text))\n",
    "info"
   ]
  },
  {
   "cell_type": "code",
   "execution_count": 5,
   "id": "249cf34a-f960-42ca-a423-9f9a39cd1c86",
   "metadata": {},
   "outputs": [],
   "source": [
    "unix2datetime = lambda unixtime: str(datetime.fromtimestamp(unixtime)).split(':')[:-1]"
   ]
  },
  {
   "cell_type": "code",
   "execution_count": 6,
   "id": "d822503f-e696-45ef-8f2c-82589b507849",
   "metadata": {},
   "outputs": [
    {
     "data": {
      "text/plain": [
       "'2023-05-11 12:45'"
      ]
     },
     "execution_count": 6,
     "metadata": {},
     "output_type": "execute_result"
    }
   ],
   "source": [
    "':'.join(unix2datetime(info['latest_online']))"
   ]
  },
  {
   "cell_type": "code",
   "execution_count": null,
   "id": "413f168e-ec01-4b6c-a648-e2b452425b0f",
   "metadata": {},
   "outputs": [],
   "source": []
  }
 ],
 "metadata": {
  "kernelspec": {
   "display_name": "dove",
   "language": "python",
   "name": "dove"
  },
  "language_info": {
   "codemirror_mode": {
    "name": "ipython",
    "version": 3
   },
   "file_extension": ".py",
   "mimetype": "text/x-python",
   "name": "python",
   "nbconvert_exporter": "python",
   "pygments_lexer": "ipython3",
   "version": "3.8.13"
  }
 },
 "nbformat": 4,
 "nbformat_minor": 5
}

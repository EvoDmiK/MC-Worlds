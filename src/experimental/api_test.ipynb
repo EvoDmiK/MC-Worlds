{
 "cells": [
  {
   "cell_type": "code",
   "execution_count": 1,
   "id": "4370e74c-9413-45cb-908b-480f2a871692",
   "metadata": {},
   "outputs": [],
   "source": [
    "from time import time\n",
    "import json\n",
    "import os\n",
    "\n",
    "from easydict import EasyDict as edict\n",
    "import requests as req"
   ]
  },
  {
   "cell_type": "code",
   "execution_count": 2,
   "id": "f9d984c6-b853-4f74-97c2-c950b0c96154",
   "metadata": {},
   "outputs": [],
   "source": [
    "ROOT_PATH   = '/'.join(os.getcwd().split(os.path.sep)[:-3])\n",
    "CONFIG_PATH = f'{ROOT_PATH}/utils/config.json'\n",
    "CONFIG      = edict(json.loads(open(CONFIG_PATH, 'r').read()))\n",
    "API_HOST    = CONFIG.host\n",
    "EXT_PORT    = CONFIG.mrcon_api_ext_port"
   ]
  },
  {
   "cell_type": "code",
   "execution_count": 3,
   "id": "e9b24d38-58f9-4f74-8607-ff992a3d0d0b",
   "metadata": {},
   "outputs": [
    {
     "data": {
      "text/plain": [
       "0.07555627822875977"
      ]
     },
     "execution_count": 3,
     "metadata": {},
     "output_type": "execute_result"
    }
   ],
   "source": [
    "start    = time()\n",
    "response = req.post(f'http://{API_HOST}:{EXT_PORT}/who_is',\n",
    "                    params = {'player' : 'DoveKim'})\n",
    "time() - start"
   ]
  },
  {
   "cell_type": "code",
   "execution_count": 4,
   "id": "603f06b0-701d-487c-b8c5-11da37ac28d7",
   "metadata": {},
   "outputs": [
    {
     "data": {
      "text/plain": [
       "{'Nick': '현재 DoveKim가 접속해 있지 않거나 DoveKim의 정보가 저장되어 있는 파일이 존재 하지 않습니다.'}"
      ]
     },
     "execution_count": 4,
     "metadata": {},
     "output_type": "execute_result"
    }
   ],
   "source": [
    "json.loads(json.loads(response.text))"
   ]
  },
  {
   "cell_type": "code",
   "execution_count": 5,
   "id": "f4861074-b0e2-4a62-9c81-94b937a6d0bd",
   "metadata": {},
   "outputs": [
    {
     "data": {
      "text/plain": [
       "0.061066627502441406"
      ]
     },
     "execution_count": 5,
     "metadata": {},
     "output_type": "execute_result"
    }
   ],
   "source": [
    "start    = time()\n",
    "response = req.post(f'http://{API_HOST}:{EXT_PORT}/num_players')\n",
    "time() - start"
   ]
  },
  {
   "cell_type": "code",
   "execution_count": 6,
   "id": "249cf34a-f960-42ca-a423-9f9a39cd1c86",
   "metadata": {},
   "outputs": [
    {
     "data": {
      "text/plain": [
       "{'num_players': 0}"
      ]
     },
     "execution_count": 6,
     "metadata": {},
     "output_type": "execute_result"
    }
   ],
   "source": [
    "json.loads(json.loads(response.text))"
   ]
  }
 ],
 "metadata": {
  "kernelspec": {
   "display_name": "dove",
   "language": "python",
   "name": "dove"
  },
  "language_info": {
   "codemirror_mode": {
    "name": "ipython",
    "version": 3
   },
   "file_extension": ".py",
   "mimetype": "text/x-python",
   "name": "python",
   "nbconvert_exporter": "python",
   "pygments_lexer": "ipython3",
   "version": "3.8.13"
  }
 },
 "nbformat": 4,
 "nbformat_minor": 5
}

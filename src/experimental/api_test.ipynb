{
 "cells": [
  {
   "cell_type": "code",
   "execution_count": 1,
   "id": "4370e74c-9413-45cb-908b-480f2a871692",
   "metadata": {},
   "outputs": [],
   "source": [
    "from time import time\n",
    "import json\n",
    "import os\n",
    "\n",
    "from easydict import EasyDict as edict\n",
    "import requests as req"
   ]
  },
  {
   "cell_type": "code",
   "execution_count": 2,
   "id": "f9d984c6-b853-4f74-97c2-c950b0c96154",
   "metadata": {},
   "outputs": [],
   "source": [
    "ROOT_PATH   = '/'.join(os.getcwd().split(os.path.sep)[:-4])\n",
    "CONFIG_PATH = f'{ROOT_PATH}/utils/configs.json'\n",
    "CONFIG      = edict(json.loads(open(CONFIG_PATH, 'r').read()))\n",
    "API_HOST    = CONFIG.api_host\n",
    "EXT_PORT    = CONFIG.ext_api_port"
   ]
  },
  {
   "cell_type": "code",
   "execution_count": 3,
   "id": "e9b24d38-58f9-4f74-8607-ff992a3d0d0b",
   "metadata": {},
   "outputs": [
    {
     "data": {
      "text/plain": [
       "0.6039900779724121"
      ]
     },
     "execution_count": 3,
     "metadata": {},
     "output_type": "execute_result"
    }
   ],
   "source": [
    "start    = time()\n",
    "response = req.post(f'http://{API_HOST}:{EXT_PORT}/who_is',\n",
    "                    params = {'player' : 'DoveKim'})\n",
    "time() - start"
   ]
  },
  {
   "cell_type": "code",
   "execution_count": 4,
   "id": "603f06b0-701d-487c-b8c5-11da37ac28d7",
   "metadata": {},
   "outputs": [
    {
     "data": {
      "text/plain": [
       "{'Nick': 'DoveKim',\n",
       " 'UUID': '0fe8095c-8d09-440e-8c5f-7ec75be107af',\n",
       " 'Health': '20/20',\n",
       " 'Hunger': '20/20 (+5 saturation)',\n",
       " 'Exp': '126 (Level 8)',\n",
       " 'Location': '(world, 1,350, 105, -2,032)',\n",
       " 'Playtime': '3 days 3 hours 55 minutes',\n",
       " 'Money': '$871.17',\n",
       " 'IPAddress': '/172.17.0.1',\n",
       " 'Gamemode': 'creative',\n",
       " 'Godmode': 'false',\n",
       " 'OP': 'true',\n",
       " 'Flymode': 'true (flying)',\n",
       " 'Speed': '0.1',\n",
       " 'AFK': 'false',\n",
       " 'Jail': 'false',\n",
       " 'Muted': 'false'}"
      ]
     },
     "execution_count": 4,
     "metadata": {},
     "output_type": "execute_result"
    }
   ],
   "source": [
    "json.loads(json.loads(response.text))"
   ]
  },
  {
   "cell_type": "code",
   "execution_count": 5,
   "id": "f4861074-b0e2-4a62-9c81-94b937a6d0bd",
   "metadata": {},
   "outputs": [
    {
     "data": {
      "text/plain": [
       "0.24672985076904297"
      ]
     },
     "execution_count": 5,
     "metadata": {},
     "output_type": "execute_result"
    }
   ],
   "source": [
    "start    = time()\n",
    "response = req.post(f'http://{API_HOST}:{EXT_PORT}/num_players')\n",
    "time() - start"
   ]
  },
  {
   "cell_type": "code",
   "execution_count": 6,
   "id": "249cf34a-f960-42ca-a423-9f9a39cd1c86",
   "metadata": {},
   "outputs": [
    {
     "data": {
      "text/plain": [
       "{'num_players': 0}"
      ]
     },
     "execution_count": 6,
     "metadata": {},
     "output_type": "execute_result"
    }
   ],
   "source": [
    "json.loads(json.loads(response.text))"
   ]
  },
  {
   "cell_type": "code",
   "execution_count": null,
   "id": "52d4bbc9-0df0-4dfd-8c82-6fe5a7e31d8d",
   "metadata": {},
   "outputs": [],
   "source": []
  }
 ],
 "metadata": {
  "kernelspec": {
   "display_name": "mc",
   "language": "python",
   "name": "mc"
  },
  "language_info": {
   "codemirror_mode": {
    "name": "ipython",
    "version": 3
   },
   "file_extension": ".py",
   "mimetype": "text/x-python",
   "name": "python",
   "nbconvert_exporter": "python",
   "pygments_lexer": "ipython3",
   "version": "3.10.10"
  }
 },
 "nbformat": 4,
 "nbformat_minor": 5
}

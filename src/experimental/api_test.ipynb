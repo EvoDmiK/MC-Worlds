{
 "cells": [
  {
   "cell_type": "code",
   "execution_count": 1,
   "id": "4370e74c-9413-45cb-908b-480f2a871692",
   "metadata": {},
   "outputs": [],
   "source": [
    "from time import time\n",
    "import json\n",
    "import os\n",
    "\n",
    "import requests as req"
   ]
  },
  {
   "cell_type": "code",
   "execution_count": 2,
   "id": "e9b24d38-58f9-4f74-8607-ff992a3d0d0b",
   "metadata": {},
   "outputs": [
    {
     "data": {
      "text/plain": [
       "0.2835988998413086"
      ]
     },
     "execution_count": 2,
     "metadata": {},
     "output_type": "execute_result"
    }
   ],
   "source": [
    "start = time()\n",
    "response = req.post('http://dove-nest.duckdns.org:1020/who_is',\n",
    "                    params = {'player' : 'CastlePush'})\n",
    "time() - start"
   ]
  },
  {
   "cell_type": "code",
   "execution_count": 3,
   "id": "603f06b0-701d-487c-b8c5-11da37ac28d7",
   "metadata": {},
   "outputs": [
    {
     "data": {
      "text/plain": [
       "{}"
      ]
     },
     "execution_count": 3,
     "metadata": {},
     "output_type": "execute_result"
    }
   ],
   "source": [
    "json.loads(json.loads(response.text))"
   ]
  },
  {
   "cell_type": "code",
   "execution_count": 4,
   "id": "f4861074-b0e2-4a62-9c81-94b937a6d0bd",
   "metadata": {},
   "outputs": [
    {
     "data": {
      "text/plain": [
       "0.07095813751220703"
      ]
     },
     "execution_count": 4,
     "metadata": {},
     "output_type": "execute_result"
    }
   ],
   "source": [
    "start = time()\n",
    "response = req.post('http://dove-nest.duckdns.org:1020/num_players')\n",
    "time() - start"
   ]
  },
  {
   "cell_type": "code",
   "execution_count": 5,
   "id": "249cf34a-f960-42ca-a423-9f9a39cd1c86",
   "metadata": {},
   "outputs": [
    {
     "data": {
      "text/plain": [
       "{'num_players': [1, [['DoveKim']]]}"
      ]
     },
     "execution_count": 5,
     "metadata": {},
     "output_type": "execute_result"
    }
   ],
   "source": [
    "json.loads(json.loads(response.text))"
   ]
  },
  {
   "cell_type": "code",
   "execution_count": null,
   "id": "338fbaca-947e-4416-af9a-4d9b3180fffd",
   "metadata": {},
   "outputs": [],
   "source": []
  }
 ],
 "metadata": {
  "kernelspec": {
   "display_name": "mc",
   "language": "python",
   "name": "mc"
  },
  "language_info": {
   "codemirror_mode": {
    "name": "ipython",
    "version": 3
   },
   "file_extension": ".py",
   "mimetype": "text/x-python",
   "name": "python",
   "nbconvert_exporter": "python",
   "pygments_lexer": "ipython3",
   "version": "3.10.10"
  }
 },
 "nbformat": 4,
 "nbformat_minor": 5
}
